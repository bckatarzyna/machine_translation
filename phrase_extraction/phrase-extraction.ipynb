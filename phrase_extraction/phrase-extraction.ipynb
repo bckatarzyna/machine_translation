{
 "metadata": {
  "name": ""
 },
 "nbformat": 3,
 "nbformat_minor": 0,
 "worksheets": [
  {
   "cells": [
    {
     "cell_type": "code",
     "collapsed": false,
     "input": [
      "from collections import defaultdict"
     ],
     "language": "python",
     "metadata": {},
     "outputs": [],
     "prompt_number": 45
    },
    {
     "cell_type": "code",
     "collapsed": false,
     "input": [
      "def prepare_sentences (f_sentences, e_sentences):\n",
      "    f_sentences = [ f.lower().split() for f in f_sentences ]\n",
      "    e_sentences = [ e.lower().split() for e in e_sentences ]\n",
      "    return f_sentences, e_sentences\n",
      "\n",
      "def load_sentences (e_file, f_file):\n",
      "    with open(f_file) as source, open(e_file) as target:\n",
      "        e_file = [ line for line in target ]\n",
      "        f_file = [ line for line in source ]\n",
      "    e_sentences, f_sentences = prepare_sentences(e_file, f_file)\n",
      "    return f_sentences, e_sentences\n",
      "\n",
      "def split_into_pairs(pair_list):\n",
      "    pairs = []\n",
      "    for pair in pair_list:\n",
      "        pairs.append((pair.split('-')[0], pair.split('-')[1]))\n",
      "    return pairs\n",
      "\n",
      "def load_alignment (a_file):\n",
      "    with open(a_file) as alignment:\n",
      "        a = [ line for line in alignment ]\n",
      "        a = [ a_item.split() for a_item in a ]\n",
      "        a = [ split_into_pairs(a_item) for a_item in a ]\n",
      "    return a"
     ],
     "language": "python",
     "metadata": {},
     "outputs": [],
     "prompt_number": 46
    },
    {
     "cell_type": "code",
     "collapsed": false,
     "input": [
      "def extract (e_list, f_list, A, f_start, f_end, e_start, e_end):\n",
      "    E = set()\n",
      "    \n",
      "    if f_end == 0:\n",
      "        return E\n",
      "    \n",
      "#     for e, f in zip(e_list, f_list):\n",
      "    \n",
      "    return E"
     ],
     "language": "python",
     "metadata": {},
     "outputs": [],
     "prompt_number": 47
    },
    {
     "cell_type": "code",
     "collapsed": false,
     "input": [
      "def phrase_extraction (e_file, f_file, alignment):\n",
      "    \n",
      "    e_list, f_list = load_sentences(e_file, f_file)\n",
      "    A = load_alignment(alignment)\n",
      "    BP = set()\n",
      "    \n",
      "#     for i in range(len(e_list)):\n",
      "#         for e_start in range(1, len(e_list[i]) + 1):\n",
      "#             for e_end in range(e_start, len(e_list[i] + 1):\n",
      "                \n",
      "    \n",
      "    return BP"
     ],
     "language": "python",
     "metadata": {},
     "outputs": [],
     "prompt_number": 48
    },
    {
     "cell_type": "code",
     "collapsed": false,
     "input": [
      "phrase_extraction('simple.en', 'simple.de', 'alignment')"
     ],
     "language": "python",
     "metadata": {},
     "outputs": [
      {
       "metadata": {},
       "output_type": "pyout",
       "prompt_number": 49,
       "text": [
        "set()"
       ]
      }
     ],
     "prompt_number": 49
    },
    {
     "cell_type": "code",
     "collapsed": false,
     "input": [],
     "language": "python",
     "metadata": {},
     "outputs": [],
     "prompt_number": 15
    },
    {
     "cell_type": "code",
     "collapsed": false,
     "input": [],
     "language": "python",
     "metadata": {},
     "outputs": []
    }
   ],
   "metadata": {}
  }
 ]
}