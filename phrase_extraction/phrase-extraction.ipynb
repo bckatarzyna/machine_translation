{
 "metadata": {
  "name": ""
 },
 "nbformat": 3,
 "nbformat_minor": 0,
 "worksheets": [
  {
   "cells": [
    {
     "cell_type": "code",
     "collapsed": false,
     "input": [
      "from collections import defaultdict"
     ],
     "language": "python",
     "metadata": {},
     "outputs": [],
     "prompt_number": 1
    },
    {
     "cell_type": "code",
     "collapsed": false,
     "input": [
      "def prepare_sentences (e_sentences, f_sentences):\n",
      "    f_sentences = [ f.lower().split() for f in f_sentences ]\n",
      "    e_sentences = [ e.lower().split() for e in e_sentences ]\n",
      "    return e_sentences, f_sentences\n",
      "\n",
      "def load_sentences (e_file, f_file):\n",
      "    with open(f_file) as source, open(e_file) as target:\n",
      "        e_file = [ line for line in target ]\n",
      "        f_file = [ line for line in source ]\n",
      "    e_sentences, f_sentences = prepare_sentences(e_file, f_file)\n",
      "    return e_sentences, f_sentences\n",
      "\n",
      "def split_into_pairs(pair_list):\n",
      "    pairs = []\n",
      "    for pair in pair_list:\n",
      "        pairs.append((pair.split('-')[0], pair.split('-')[1]))\n",
      "    return pairs\n",
      "\n",
      "def load_alignment (a_file):\n",
      "    with open(a_file) as alignment:\n",
      "        a = [ line for line in alignment ]\n",
      "        a = [ a_item.split() for a_item in a ]\n",
      "        a = [ split_into_pairs(a_item) for a_item in a ]\n",
      "    return a"
     ],
     "language": "python",
     "metadata": {},
     "outputs": [],
     "prompt_number": 56
    },
    {
     "cell_type": "code",
     "collapsed": false,
     "input": [
      "def aligned(A, f_ind, e_start, e_end):\n",
      "    f_aligned = []\n",
      "    for pair in A:\n",
      "        e, f = int(pair[0]), int(pair[1])\n",
      "        if f == f_ind:\n",
      "            f_aligned.append(e)\n",
      "    if len(f_aligned) > 0 and (min(f_aligned) < e_start or max(f_aligned) > e_end):\n",
      "        return False\n",
      "    return True"
     ],
     "language": "python",
     "metadata": {},
     "outputs": [],
     "prompt_number": 114
    },
    {
     "cell_type": "code",
     "collapsed": false,
     "input": [
      "def extract (A, f_start, f_end, e_start, e_end, e_sent, f_sent):\n",
      "    E = set()\n",
      "    \n",
      "    if f_end == 0:\n",
      "        return E    \n",
      "    for pair in A:\n",
      "        e, f = int(pair[0]), int(pair[1])\n",
      "        if f_start <= f and f <= f_end and (e < e_start or e > e_end):\n",
      "            return E\n",
      "        \n",
      "    f_s = f_start\n",
      "    while True:\n",
      "        f_e = f_end\n",
      "        while True:\n",
      "            e_phrase = \"\"\n",
      "            f_phrase = \"\"\n",
      "            for i in range(e_start, e_end + 1):\n",
      "                e_phrase += e_sent[i - 1] + \" \"\n",
      "            for i in range(f_s, f_e + 1):\n",
      "                f_phrase += f_sent[i - 1] + \" \"\n",
      "            phrases_pair = (e_phrase, f_phrase)\n",
      "            E.add(phrases_pair)\n",
      "            f_e += 1\n",
      "            if f_e > len(f_sent) or not aligned(A, f_e, e_start, e_end):\n",
      "                break\n",
      "        f_s -= 1\n",
      "        if f_s < 1 or not aligned(A, f_s, e_start, e_end):\n",
      "            break\n",
      "    \n",
      "    return E"
     ],
     "language": "python",
     "metadata": {},
     "outputs": [],
     "prompt_number": 135
    },
    {
     "cell_type": "code",
     "collapsed": false,
     "input": [
      "def phrase_extraction (e_file, f_file, alignment):\n",
      "    \n",
      "    e_list, f_list = load_sentences(e_file, f_file)\n",
      "    A = load_alignment(alignment)\n",
      "    BP = set()\n",
      "    \n",
      "    for i in range(len(e_list)):\n",
      "        for e_start in range(1, len(e_list[i]) + 1):\n",
      "            for e_end in range(e_start, len(e_list[i]) + 1):\n",
      "                f_start, f_end = len(f_list[i]), 0\n",
      "                for pair in A[i]:\n",
      "                    e, f = int(pair[0]), int(pair[1])\n",
      "                    if e_start <= e and e <= e_end:\n",
      "                        f_start = min(f, f_start)\n",
      "                        f_end = max(f, f_end)\n",
      "                new_phrases = extract(A[i], f_start, f_end, e_start, e_end, e_list[i], f_list[i])\n",
      "                for phrase in new_phrases:\n",
      "                    BP.add(phrase)\n",
      "                       \n",
      "    return BP"
     ],
     "language": "python",
     "metadata": {},
     "outputs": [],
     "prompt_number": 136
    },
    {
     "cell_type": "code",
     "collapsed": false,
     "input": [
      "phrase_extraction('simple.en', 'simple.de', 'alignment')"
     ],
     "language": "python",
     "metadata": {},
     "outputs": [
      {
       "metadata": {},
       "output_type": "pyout",
       "prompt_number": 137,
       "text": [
        "{('assumes ', 'geht davon aus '),\n",
        " ('assumes ', 'geht davon aus , '),\n",
        " ('assumes that ', 'geht davon aus , dass '),\n",
        " ('assumes that he ', 'geht davon aus , dass er '),\n",
        " ('assumes that he will stay in the house ',\n",
        "  'geht davon aus , dass er im haus bleibt '),\n",
        " ('he ', 'er '),\n",
        " ('he will stay in the house ', 'er im haus bleibt '),\n",
        " ('house ', 'haus '),\n",
        " ('in the ', 'im '),\n",
        " ('in the house ', 'im haus '),\n",
        " ('michael ', 'michael '),\n",
        " ('michael assumes ', 'michael geht davon aus '),\n",
        " ('michael assumes ', 'michael geht davon aus , '),\n",
        " ('michael assumes that ', 'michael geht davon aus , dass '),\n",
        " ('michael assumes that he ', 'michael geht davon aus , dass er '),\n",
        " ('michael assumes that he will stay in the house ',\n",
        "  'michael geht davon aus , dass er im haus bleibt '),\n",
        " ('that ', ', dass '),\n",
        " ('that ', 'dass '),\n",
        " ('that he ', ', dass er '),\n",
        " ('that he ', 'dass er '),\n",
        " ('that he will stay in the house ', ', dass er im haus bleibt '),\n",
        " ('that he will stay in the house ', 'dass er im haus bleibt '),\n",
        " ('will stay ', 'bleibt '),\n",
        " ('will stay in the house ', 'im haus bleibt ')}"
       ]
      }
     ],
     "prompt_number": 137
    },
    {
     "cell_type": "code",
     "collapsed": false,
     "input": [],
     "language": "python",
     "metadata": {},
     "outputs": [],
     "prompt_number": "*"
    },
    {
     "cell_type": "code",
     "collapsed": false,
     "input": [],
     "language": "python",
     "metadata": {},
     "outputs": []
    }
   ],
   "metadata": {}
  }
 ]
}